{
 "cells": [
  {
   "cell_type": "markdown",
   "id": "455b6ed4",
   "metadata": {},
   "source": [
    "## A basic OOP for an ATM machine."
   ]
  },
  {
   "cell_type": "code",
   "execution_count": 1,
   "id": "ac9b27d9",
   "metadata": {},
   "outputs": [],
   "source": [
    "# balance and data are two important datasets here that we will use throughout the coding part."
   ]
  },
  {
   "cell_type": "code",
   "execution_count": 2,
   "id": "844f272c",
   "metadata": {},
   "outputs": [],
   "source": [
    "# init is a constructor. which is inside the class. \n",
    "# inisde of it, the code gets executed.\n",
    "# we'll make a class and call it"
   ]
  },
  {
   "cell_type": "code",
   "execution_count": 3,
   "id": "b74ae857",
   "metadata": {},
   "outputs": [],
   "source": [
    "class Atm: \n",
    "    \n",
    "    def __init__(self): # init method er inside ei always class er kaj hobe. #init is a constructor.\n",
    "        self.pin = '' # variable whose initial value is 0\n",
    "        self.balance = 0 # variable whose initial value is 0\n",
    "        \n",
    "        self.menu() # calling the menu method which is inside the self\n",
    "        \n",
    "    def menu(self): # this is the menu method\n",
    "        user_input = int(input('''\n",
    "        Hello! How would you like to proceed?\n",
    "        Press 1 to create pin\n",
    "        Press 2 to deposit\n",
    "        Press 3 to withdraw\n",
    "        Press 4 to check balance\n",
    "        Press 5 to exit\n",
    "        '''))\n",
    "        if user_input == 1:\n",
    "            #print('Create pin: ') # now we are going to make a function. \n",
    "            self.create_pin() # just like self.menu\n",
    "        elif user_input == 2:\n",
    "            #print('Deposit: ')\n",
    "            self.deposit()\n",
    "        elif user_input == 3:\n",
    "            #print('Withdraw: ')\n",
    "            self.withdraw()\n",
    "        elif user_input == 4:\n",
    "            #print('Check balance: ')\n",
    "            self.check_balance()\n",
    "        elif user_input == 5:\n",
    "            print('Bye')\n",
    "        \n",
    "    def create_pin(self): # Creating new function\n",
    "        self.pin = input(\"Enter your pin: \")\n",
    "        print(\"Pin is set successfully.\")\n",
    "        \n",
    "    def deposit(self):\n",
    "        temp = input(\"Enter your pin: \")\n",
    "        if temp == self.pin:\n",
    "            amount = int(input(\"Enter the amount: \"))\n",
    "            self.balance += amount\n",
    "            print(\"Your deposition is successful.\")\n",
    "        else:\n",
    "            print(temp,\" is Wrong pin. Try again.\")\n",
    "    \n",
    "    def withdraw(self):\n",
    "        temp = input(\"Enter your pin: \")\n",
    "        if temp == self.pin:\n",
    "            amount = int(input(\"How much do you want to withdraw? \"))\n",
    "            if amount <= self.balance:\n",
    "                self.balance = -(amount - self.balance)\n",
    "                print(amount, \" is withdrawn.\")\n",
    "            else:\n",
    "                print(amount, \" is bigger than your balance.\")\n",
    "        else:\n",
    "             print(\"Wrong pin. Try again.\")\n",
    "        \n",
    "    def check_balance(self):\n",
    "        temp = input(\"Enter your pin: \")\n",
    "        if temp == self.pin:\n",
    "            print(\"Your balance is \",self.balance)\n",
    "        else:\n",
    "            print(\"Wrong pin. Try again.\")"
   ]
  },
  {
   "cell_type": "code",
   "execution_count": 4,
   "id": "142a09d9",
   "metadata": {},
   "outputs": [
    {
     "name": "stdout",
     "output_type": "stream",
     "text": [
      "\n",
      "        Hello! How would you like to proceed?\n",
      "        Press 1 to create pin\n",
      "        Press 2 to deposit\n",
      "        Press 3 to withdraw\n",
      "        Press 4 to check balance\n",
      "        Press 5 to exit\n",
      "        1\n",
      "Enter your pin: 1234\n",
      "Pin is set successfully.\n"
     ]
    }
   ],
   "source": [
    "jashia = Atm()"
   ]
  },
  {
   "cell_type": "code",
   "execution_count": 5,
   "id": "43833e7a",
   "metadata": {},
   "outputs": [
    {
     "name": "stdout",
     "output_type": "stream",
     "text": [
      "\n",
      "        Hello! How would you like to proceed?\n",
      "        Press 1 to create pin\n",
      "        Press 2 to deposit\n",
      "        Press 3 to withdraw\n",
      "        Press 4 to check balance\n",
      "        Press 5 to exit\n",
      "        1\n",
      "Enter your pin: 0000\n",
      "Pin is set successfully.\n"
     ]
    }
   ],
   "source": [
    "mohona = Atm()"
   ]
  },
  {
   "cell_type": "code",
   "execution_count": 6,
   "id": "6f2e5101",
   "metadata": {},
   "outputs": [
    {
     "name": "stdout",
     "output_type": "stream",
     "text": [
      "Enter your pin: 1234\n",
      "Enter the amount: 200\n",
      "Your deposition is successful.\n"
     ]
    }
   ],
   "source": [
    "jashia.deposit()"
   ]
  },
  {
   "cell_type": "code",
   "execution_count": 7,
   "id": "ab7ed45d",
   "metadata": {},
   "outputs": [
    {
     "name": "stdout",
     "output_type": "stream",
     "text": [
      "Enter your pin: 1234\n",
      "Wrong pin. Try again.\n"
     ]
    }
   ],
   "source": [
    "mohona.check_balance()"
   ]
  },
  {
   "cell_type": "code",
   "execution_count": 8,
   "id": "7beb8f99",
   "metadata": {},
   "outputs": [
    {
     "name": "stdout",
     "output_type": "stream",
     "text": [
      "Enter your pin: 0000\n",
      "Your balance is  0\n"
     ]
    }
   ],
   "source": [
    "mohona.check_balance()"
   ]
  },
  {
   "cell_type": "code",
   "execution_count": 9,
   "id": "79f16348",
   "metadata": {},
   "outputs": [
    {
     "name": "stdout",
     "output_type": "stream",
     "text": [
      "Enter your pin: 1234\n",
      "How much do you want to withdraw? 500\n",
      "500  is bigger than your balance.\n"
     ]
    }
   ],
   "source": [
    "jashia.withdraw()"
   ]
  },
  {
   "cell_type": "code",
   "execution_count": 12,
   "id": "deb0d24a",
   "metadata": {},
   "outputs": [
    {
     "name": "stdout",
     "output_type": "stream",
     "text": [
      "Enter your pin: 1234\n",
      "Enter the amount: 700\n",
      "Your deposition is successful.\n"
     ]
    }
   ],
   "source": [
    "jashia.deposit()"
   ]
  },
  {
   "cell_type": "code",
   "execution_count": 13,
   "id": "cf112fc2",
   "metadata": {},
   "outputs": [
    {
     "name": "stdout",
     "output_type": "stream",
     "text": [
      "Enter your pin: 0000\n",
      "Enter the amount: 400\n",
      "Your deposition is successful.\n"
     ]
    }
   ],
   "source": [
    "mohona.deposit()"
   ]
  },
  {
   "cell_type": "code",
   "execution_count": 14,
   "id": "b6996988",
   "metadata": {},
   "outputs": [
    {
     "name": "stdout",
     "output_type": "stream",
     "text": [
      "Enter your pin: 1234\n",
      "Your balance is  900\n"
     ]
    }
   ],
   "source": [
    "jashia.check_balance()"
   ]
  },
  {
   "cell_type": "code",
   "execution_count": 15,
   "id": "df7c150d",
   "metadata": {},
   "outputs": [
    {
     "name": "stdout",
     "output_type": "stream",
     "text": [
      "Enter your pin: 0000\n",
      "Your balance is  400\n"
     ]
    }
   ],
   "source": [
    "mohona.check_balance()"
   ]
  }
 ],
 "metadata": {
  "kernelspec": {
   "display_name": "Python 3 (ipykernel)",
   "language": "python",
   "name": "python3"
  },
  "language_info": {
   "codemirror_mode": {
    "name": "ipython",
    "version": 3
   },
   "file_extension": ".py",
   "mimetype": "text/x-python",
   "name": "python",
   "nbconvert_exporter": "python",
   "pygments_lexer": "ipython3",
   "version": "3.10.9"
  }
 },
 "nbformat": 4,
 "nbformat_minor": 5
}
